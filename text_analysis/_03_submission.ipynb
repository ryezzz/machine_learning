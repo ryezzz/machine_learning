{
 "cells": [
  {
   "cell_type": "markdown",
   "metadata": {},
   "source": [
    "# Submission 1, ML Assignment 1"
   ]
  },
  {
   "cell_type": "code",
   "execution_count": 1,
   "metadata": {
    "collapsed": true
   },
   "outputs": [],
   "source": [
    "import numpy as np\n",
    "import pandas as pd\n",
    "import matplotlib.pyplot as plt\n",
    "from sklearn.externals import joblib\n",
    "from my_measures import BinaryClassificationPerformance\n",
    "%matplotlib inline"
   ]
  },
  {
   "cell_type": "markdown",
   "metadata": {},
   "source": [
    "### Read raw test data"
   ]
  },
  {
   "cell_type": "code",
   "execution_count": 2,
   "metadata": {},
   "outputs": [
    {
     "name": "stdout",
     "output_type": "stream",
     "text": [
      "(91000, 14)\n"
     ]
    }
   ],
   "source": [
    "amazon = pd.read_csv('raw_data_test.csv')\n",
    "print(amazon.shape)"
   ]
  },
  {
   "cell_type": "code",
   "execution_count": 3,
   "metadata": {},
   "outputs": [
    {
     "name": "stdout",
     "output_type": "stream",
     "text": [
      "   Unnamed: 0  Unnamed: 0.1      Id   ProductId          UserId  \\\n",
      "0        5019        567186  567187  B000LL0R92  A2CEPS4H5KB4G5   \n",
      "1      183782        168172  168173  B005VOOKS8   AKT8TGIT6VVZ5   \n",
      "2       86594         22530   22531  B003IMVB0K  A1AN1XNF7SH9F7   \n",
      "3      197240        407078  407079  B000HDMUOE  A2WQ4FT0CMDSUI   \n",
      "4      389002        382819  382820  B002T0IHPO  A32MNJDU9PMVWE   \n",
      "\n",
      "                 ProfileName  HelpfulnessNumerator  HelpfulnessDenominator  \\\n",
      "0          Jilly from philly                     0                       0   \n",
      "1                  John Kwok                     0                       1   \n",
      "2  Keith Flury \"Keith Flury\"                     0                       0   \n",
      "3               Profane Poet                     1                       2   \n",
      "4             Robert D. Levy                     3                       6   \n",
      "\n",
      "   Score        Time                                          Summary  \\\n",
      "0      2  1346889600  Only buy if you really like the original flavor   \n",
      "1      5  1333238400     Great Organic Coffee with a Rich, Bold Taste   \n",
      "2      4  1342742400                              Freeze dried Papaya   \n",
      "3      1  1320364800         I Love Azuki Beans, But These Are Nasty!   \n",
      "4      1  1291420800                              Diet lover's delite   \n",
      "\n",
      "                                                Text  helpScore  helpful  \n",
      "0  If you're like me you really enjoy the all aro...        NaN    False  \n",
      "1  Marley Coffee's Exotic Floral and Berry \"One L...        0.0    False  \n",
      "2  Not much to say I buy this item often for our ...        NaN    False  \n",
      "3  I love azuki beans. I've had canned and also c...        0.5    False  \n",
      "4  I should have read the product description bet...        0.5    False  \n",
      "0.0729450549451\n"
     ]
    }
   ],
   "source": [
    "print(amazon.head())\n",
    "print(amazon['helpful'].mean())"
   ]
  },
  {
   "cell_type": "markdown",
   "metadata": {},
   "source": [
    "### Feature extraction on natural language data"
   ]
  },
  {
   "cell_type": "code",
   "execution_count": 4,
   "metadata": {
    "collapsed": true
   },
   "outputs": [],
   "source": [
    "# # http://scikit-learn.org/stable/modules/generated/sklearn.feature_extraction.text.CountVectorizer.html\n",
    "# from sklearn.feature_extraction.text import CountVectorizer\n",
    "# vectorizer = CountVectorizer()\n",
    "# corpus = amazon.Text.as_matrix()\n",
    "# X_bag_of_words = vectorizer.fit_transform(corpus)\n",
    "# print(X_bag_of_words.toarray())"
   ]
  },
  {
   "cell_type": "code",
   "execution_count": 5,
   "metadata": {},
   "outputs": [
    {
     "name": "stderr",
     "output_type": "stream",
     "text": [
      "/Users/ryezzz/anaconda3/lib/python3.6/site-packages/sklearn/feature_extraction/hashing.py:94: DeprecationWarning: the option non_negative=True has been deprecated in 0.19 and will be removed in version 0.21.\n",
      "  \" in version 0.21.\", DeprecationWarning)\n"
     ]
    },
    {
     "name": "stdout",
     "output_type": "stream",
     "text": [
      "(91000, 262144)\n"
     ]
    }
   ],
   "source": [
    "# vectorize Bag of Words from review text; as sparse matrix\n",
    "# from sklearn.feature_extraction.text import HashingVectorizer\n",
    "# hv = HashingVectorizer(n_features=2 ** 17, non_negative=True)\n",
    "hv = joblib.load('hv.pkl')\n",
    "X_hv = hv.transform(amazon.Text)\n",
    "print(X_hv.shape)"
   ]
  },
  {
   "cell_type": "code",
   "execution_count": 6,
   "metadata": {
    "collapsed": true
   },
   "outputs": [],
   "source": [
    "# http://scikit-learn.org/stable/modules/generated/sklearn.feature_extraction.text.TfidfTransformer.html\n",
    "# from sklearn.feature_extraction.text import TfidfTransformer\n",
    "# transformer = TfidfTransformer()\n",
    "transformer = joblib.load('transformer.pkl')\n",
    "X_tfidf = transformer.transform(X_hv)"
   ]
  },
  {
   "cell_type": "code",
   "execution_count": 7,
   "metadata": {},
   "outputs": [
    {
     "name": "stdout",
     "output_type": "stream",
     "text": [
      "<class 'scipy.sparse.csr.csr_matrix'>\n"
     ]
    }
   ],
   "source": [
    "print(type(X_tfidf))"
   ]
  },
  {
   "cell_type": "markdown",
   "metadata": {
    "collapsed": true
   },
   "source": [
    "### Create additional quantitative features"
   ]
  },
  {
   "cell_type": "code",
   "execution_count": 8,
   "metadata": {},
   "outputs": [
    {
     "name": "stdout",
     "output_type": "stream",
     "text": [
      "    selfCentered  Score  reviewLen  exclaim        time         productID  \\\n",
      "0              1      2        496        0  1346889600     2000121201892   \n",
      "1              0      5        471        0  1333238400   200522151511198   \n",
      "2              0      4        164        0  1342742400     2003913222011   \n",
      "3              1      1        677        0  1320364800     2000841321155   \n",
      "4              1      1        242        0  1291420800     2002200981615   \n",
      "5              1      4        442        0  1315180800      200362651715   \n",
      "6              0      5        247        0  1241049600  2000141310232615   \n",
      "7              0      5        238        1  1134345600      200003142158   \n",
      "8              1      5        373        1  1296086400     2004341051715   \n",
      "9              1      4        315        0  1236297600     2000522151954   \n",
      "10             0      5       1065        1  1310601600   200022824242319   \n",
      "11             1      4        194        0  1325635200    20041232018613   \n",
      "12             1      3        509        0  1291248000      200066318247   \n",
      "13             1      5        182        1  1337385600    20044152514159   \n",
      "14             0      5        159        0  1240185600     2000516152253   \n",
      "15             0      2        221        0  1331510400   200019118102117   \n",
      "16             1      5       1128        0  1264636800        2001406763   \n",
      "17             1      5        488        0  1316563200   200217231772119   \n",
      "18             0      5        165        0  1311033600      200492112278   \n",
      "19             1      4        194        0  1350950400      200012501682   \n",
      "\n",
      "    exclaim2  selfCentered2  goodReviewer  \n",
      "0          0              0       24545.0  \n",
      "1          0              0         865.0  \n",
      "2          0              0       11797.0  \n",
      "3          1              1         240.0  \n",
      "4          0              0         329.0  \n",
      "5          0              0           3.0  \n",
      "6          0              0           6.0  \n",
      "7          1              0         280.0  \n",
      "8          1              1           3.0  \n",
      "9          1              0        2254.0  \n",
      "10         0              0        1693.0  \n",
      "11         0              0         151.0  \n",
      "12         0              0        3566.0  \n",
      "13         0              0         300.0  \n",
      "14         0              0           3.0  \n",
      "15         0              0        1015.0  \n",
      "16         1              0        3788.0  \n",
      "17         0              0          25.0  \n",
      "18         0              0          16.0  \n",
      "19         0              0           9.0  \n"
     ]
    }
   ],
   "source": [
    "import ryemodule\n",
    "# features from Amazon.csv to add to feature set\n",
    "# pd.get_dummies( df )\n",
    "amazon['reviewLen'] = amazon['Text'].str.len()\n",
    "#Test if certain users get better reviews   amazon['ProfileName']\n",
    "amazon['goodReviewer'] = amazon['UserId'].apply(ryemodule.removeLetters).fillna(value=1)\n",
    "\n",
    "# Didn't help\n",
    "amazon['productID'] = amazon['ProductId'].apply(ryemodule.lettersToNumbers).fillna(value=1)\n",
    "\n",
    "# Test if string begins with I\n",
    "amazon['selfCentered'] = (amazon['Text'].str[0] == 'I') * 1\n",
    "# Test if string contains !\n",
    "amazon['exclaim'] = amazon['Text'].str.contains('!') * 1\n",
    "amazon['exclaim2'] = amazon['Summary'].fillna(value='a').str.contains('!') * 1\n",
    "amazon['selfCentered2'] = (amazon['Summary'].fillna(value='a').str[0] == 'I') * 1\n",
    "# amazon['test'] = amazon['Text'].str.split().size\n",
    "amazon['time'] = amazon['Time']\n",
    "\n",
    "# amazon['Unnamed'] = amazon['Unnamed'].apply(lettersToNumbers).fillna(value=1)\n",
    "\n",
    "# X_quant_features = amazon[['selfCentered', \"reviewLen\", 'exclaim', 'time']]\n",
    "X_quant_features = amazon[['selfCentered',\"Score\", \"reviewLen\", 'exclaim', 'time', 'productID', 'exclaim2', 'selfCentered2', 'goodReviewer']]\n",
    "# X_quant_features = amazon[['selfCentered',\"Score\", \"reviewLen\", 'exclaim', 'time', \"goodReviewer\", 'exclaim2', 'productID']]\n",
    "\n",
    "\n",
    "# X_quant_features = amazon[['goodReviewer']]\n",
    "\n",
    "print(X_quant_features.head(20))\n",
    "# print(type(X_quant_features))"
   ]
  },
  {
   "cell_type": "markdown",
   "metadata": {},
   "source": [
    "### Combine all quantitative features into a single sparse matrix"
   ]
  },
  {
   "cell_type": "code",
   "execution_count": 9,
   "metadata": {},
   "outputs": [
    {
     "name": "stdout",
     "output_type": "stream",
     "text": [
      "(91000, 262153)\n"
     ]
    }
   ],
   "source": [
    "from scipy.sparse import csr_matrix, hstack\n",
    "X_quant_features_csr = csr_matrix(X_quant_features)\n",
    "X_combined = hstack([X_tfidf, X_quant_features_csr])\n",
    "X_matrix = csr_matrix(X_combined) # convert to sparse matrix\n",
    "print(X_matrix.shape)"
   ]
  },
  {
   "cell_type": "markdown",
   "metadata": {},
   "source": [
    "### Create `X`, scaled matrix of features"
   ]
  },
  {
   "cell_type": "code",
   "execution_count": 10,
   "metadata": {},
   "outputs": [
    {
     "name": "stdout",
     "output_type": "stream",
     "text": [
      "(91000, 262153)\n"
     ]
    }
   ],
   "source": [
    "# feature scaling\n",
    "# from sklearn.preprocessing import StandardScaler\n",
    "# sc = StandardScaler(with_mean=False)\n",
    "sc = joblib.load('sc.pkl')\n",
    "X = sc.transform(X_matrix)\n",
    "print(X.shape)"
   ]
  },
  {
   "cell_type": "markdown",
   "metadata": {},
   "source": [
    "### create `y`, vector of Labels"
   ]
  },
  {
   "cell_type": "code",
   "execution_count": 11,
   "metadata": {},
   "outputs": [
    {
     "name": "stdout",
     "output_type": "stream",
     "text": [
      "<class 'numpy.ndarray'>\n"
     ]
    }
   ],
   "source": [
    "y = amazon['helpful'].values\n",
    "print(type(y))"
   ]
  },
  {
   "cell_type": "markdown",
   "metadata": {},
   "source": [
    "### predict `y` with the fit on the training set"
   ]
  },
  {
   "cell_type": "code",
   "execution_count": 17,
   "metadata": {},
   "outputs": [
    {
     "name": "stdout",
     "output_type": "stream",
     "text": [
      "{'Pos': 6638, 'Neg': 84362, 'TP': 2457, 'TN': 73359, 'FP': 11003, 'FN': 4181, 'Accuracy': 0.83314285714285718, 'Precision': 0.18254086181277859, 'Recall': 0.37014160891834891, 'desc': 'TOP SECRET'}\n"
     ]
    }
   ],
   "source": [
    "# MODEL: Naive Bayes\n",
    "# from sklearn.naive_bayes import MultinomialNB\n",
    "# nbs = MultinomialNB()\n",
    "# nbs.fit(X, y)\n",
    "# joblib.dump(nbs, 'nbs.pkl') # pickle\n",
    "nbs = joblib.load('nbs.pkl')\n",
    "\n",
    "nbs_performance = BinaryClassificationPerformance(nbs.predict(X), y, 'TOP SECRET')\n",
    "nbs_performance.compute_measures()\n",
    "print(nbs_performance.performance_measures)"
   ]
  },
  {
   "cell_type": "markdown",
   "metadata": {},
   "source": [
    "### ROC plot to compare performance of various models and fits"
   ]
  },
  {
   "cell_type": "code",
   "execution_count": 18,
   "metadata": {},
   "outputs": [
    {
     "data": {
      "image/png": "[encoded data removed]",
      "text/plain": [
       "<Figure size 432x288 with 1 Axes>"
      ]
     },
     "metadata": {},
     "output_type": "display_data"
    }
   ],
   "source": [
    "fits = [nbs_performance]\n",
    "\n",
    "for fit in fits:\n",
    "    plt.plot(fit.performance_measures['FP'] / fit.performance_measures['Neg'], \n",
    "             fit.performance_measures['TP'] / fit.performance_measures['Pos'], 'bo')\n",
    "    plt.text(fit.performance_measures['FP'] / fit.performance_measures['Neg'], \n",
    "             fit.performance_measures['TP'] / fit.performance_measures['Pos'], fit.desc)\n",
    "plt.axis([0, 1, 0, 1])\n",
    "plt.title('ROC plot: test set')\n",
    "plt.xlabel('False positive rate')\n",
    "plt.ylabel('True positive rate')\n",
    "plt.show()"
   ]
  },
  {
   "cell_type": "code",
   "execution_count": null,
   "metadata": {
    "collapsed": true
   },
   "outputs": [],
   "source": []
  }
 ],
 "metadata": {
  "kernelspec": {
   "display_name": "Python 3",
   "language": "python",
   "name": "python3"
  },
  "language_info": {
   "codemirror_mode": {
    "name": "ipython",
    "version": 3
   },
   "file_extension": ".py",
   "mimetype": "text/x-python",
   "name": "python",
   "nbconvert_exporter": "python",
   "pygments_lexer": "ipython3",
   "version": "3.6.3"
  }
 },
 "nbformat": 4,
 "nbformat_minor": 1
}
